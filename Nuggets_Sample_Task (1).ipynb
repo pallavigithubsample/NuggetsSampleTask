{
  "nbformat": 4,
  "nbformat_minor": 0,
  "metadata": {
    "colab": {
      "name": "Nuggets_Sample_Task.ipynb",
      "provenance": [],
      "collapsed_sections": []
    },
    "kernelspec": {
      "name": "python3",
      "display_name": "Python 3"
    },
    "language_info": {
      "name": "python"
    }
  },
  "cells": [
    {
      "cell_type": "code",
      "execution_count": 131,
      "metadata": {
        "id": "HUig4iK3dxPC"
      },
      "outputs": [],
      "source": [
        "import pandas as pd\n",
        "import requests\n",
        "from bs4 import BeautifulSoup"
      ]
    },
    {
      "cell_type": "code",
      "source": [
        "#from requests.api import request\n",
        "def extract(page):\n",
        "  headers={'User-Agent':'Mozilla/5.0 (Windows NT 10.0; WOW64) AppleWebKit/537.36 (KHTML, like Gecko) Chrome/100.0.4896.88 Safari/537.36'}\n",
        "  URL=f\"https://www.linkedin.com/jobs/search/?keywords=data%20scientist&position={page}\"\n",
        "  r=requests.get(URL,headers)\n",
        "  soup=BeautifulSoup(r.content, 'html.parser')\n",
        "  return(soup)\n",
        "  "
      ],
      "metadata": {
        "id": "npJURaGMd9us"
      },
      "execution_count": 132,
      "outputs": []
    },
    {
      "cell_type": "code",
      "source": [
        "def transform(soup):\n",
        "  divs=soup.find_all('div',class_='base-search-card__info')\n",
        "  for list in divs:\n",
        "    Job_title=list.find('h3').text.strip() \n",
        "    Company=list.find('a',class_=\"hidden-nested-link\").text.strip()\n",
        "    Location=list.find('span',class_=\"job-search-card__location\").text.strip()\n",
        "    for link in soup.find_all('a'):\n",
        "      Job_URL=link.get('href')\n",
        "    #Job_URL=list.findAll('a',class_=\"base-card__full-link\").get('href')\n",
        "    #print(Job_URL)\n",
        "    job={'Job_Title': Job_title,\n",
        "        'Company':Company,\n",
        "         'Location':Location,\n",
        "         'Job URL':Job_URL\n",
        "         }\n",
        "    JobList.append(job)\n",
        "    return\n",
        "\n",
        "\n",
        "JobList=[]\n",
        "\n",
        "for i in range(0,30,1):\n",
        "  c=extract(0)\n",
        "  transform(c)\n",
        "   \n",
        "   \n",
        "df=pd.DataFrame(JobList)\n",
        "\n",
        "print(df)\n",
        "\n",
        "df.to_csv('JobsLists.csv')"
      ],
      "metadata": {
        "colab": {
          "base_uri": "https://localhost:8080/"
        },
        "id": "uhHAxmhZGJuR",
        "outputId": "d8858205-a633-4062-e921-425a98435b99"
      },
      "execution_count": 135,
      "outputs": [
        {
          "output_type": "stream",
          "name": "stdout",
          "text": [
            "                                      Job_Title    Company         Location  \\\n",
            "0   data scientist (multiple openings) - Remote  Starbucks      Seattle, WA   \n",
            "1   data scientist (multiple openings) - Remote  Starbucks      Seattle, WA   \n",
            "2   data scientist (multiple openings) - Remote  Starbucks      Seattle, WA   \n",
            "3         data scientist, Supply Chain - Remote  Starbucks      Seattle, WA   \n",
            "4   data scientist (multiple openings) - Remote  Starbucks      Seattle, WA   \n",
            "5   data scientist (multiple openings) - Remote  Starbucks      Seattle, WA   \n",
            "6   data scientist (multiple openings) - Remote  Starbucks      Seattle, WA   \n",
            "7   data scientist (multiple openings) - Remote  Starbucks      Seattle, WA   \n",
            "8         data scientist, Supply Chain - Remote  Starbucks      Seattle, WA   \n",
            "9   data scientist (multiple openings) - Remote  Starbucks      Seattle, WA   \n",
            "10  data scientist (multiple openings) - Remote  Starbucks      Seattle, WA   \n",
            "11  data scientist (multiple openings) - Remote  Starbucks      Seattle, WA   \n",
            "12        data scientist, Supply Chain - Remote  Starbucks      Seattle, WA   \n",
            "13           2022 Summer Intern: Data Scientist    Walmart  Bentonville, AR   \n",
            "14        data scientist, Supply Chain - Remote  Starbucks      Seattle, WA   \n",
            "15  data scientist (multiple openings) - Remote  Starbucks      Seattle, WA   \n",
            "16  data scientist (multiple openings) - Remote  Starbucks      Seattle, WA   \n",
            "17  data scientist (multiple openings) - Remote  Starbucks      Seattle, WA   \n",
            "18  data scientist (multiple openings) - Remote  Starbucks      Seattle, WA   \n",
            "19  data scientist (multiple openings) - Remote  Starbucks      Seattle, WA   \n",
            "20           2022 Summer Intern: Data Scientist    Walmart  Bentonville, AR   \n",
            "21  data scientist (multiple openings) - Remote  Starbucks      Seattle, WA   \n",
            "22  data scientist (multiple openings) - Remote  Starbucks      Seattle, WA   \n",
            "23  data scientist (multiple openings) - Remote  Starbucks      Seattle, WA   \n",
            "24                               Data Scientist    Walmart       Dallas, TX   \n",
            "25        data scientist, Supply Chain - Remote  Starbucks      Seattle, WA   \n",
            "26        data scientist, Supply Chain - Remote  Starbucks      Seattle, WA   \n",
            "27        data scientist, Supply Chain - Remote  Starbucks      Seattle, WA   \n",
            "28  data scientist (multiple openings) - Remote  Starbucks      Seattle, WA   \n",
            "29  data scientist (multiple openings) - Remote  Starbucks      Seattle, WA   \n",
            "\n",
            "                                              Job URL  \n",
            "0   https://www.linkedin.com/signup/cold-join?sour...  \n",
            "1   https://www.linkedin.com/signup/cold-join?sour...  \n",
            "2   https://www.linkedin.com/signup/cold-join?sour...  \n",
            "3   https://www.linkedin.com/signup/cold-join?sour...  \n",
            "4   https://www.linkedin.com/signup/cold-join?sour...  \n",
            "5   https://www.linkedin.com/signup/cold-join?sour...  \n",
            "6   https://www.linkedin.com/signup/cold-join?sour...  \n",
            "7   https://www.linkedin.com/signup/cold-join?sour...  \n",
            "8   https://www.linkedin.com/signup/cold-join?sour...  \n",
            "9   https://www.linkedin.com/signup/cold-join?sour...  \n",
            "10  https://www.linkedin.com/signup/cold-join?sour...  \n",
            "11  https://www.linkedin.com/signup/cold-join?sour...  \n",
            "12  https://www.linkedin.com/signup/cold-join?sour...  \n",
            "13  https://www.linkedin.com/signup/cold-join?sour...  \n",
            "14  https://www.linkedin.com/signup/cold-join?sour...  \n",
            "15  https://www.linkedin.com/signup/cold-join?sour...  \n",
            "16  https://www.linkedin.com/signup/cold-join?sour...  \n",
            "17  https://www.linkedin.com/signup/cold-join?sour...  \n",
            "18  https://www.linkedin.com/signup/cold-join?sour...  \n",
            "19  https://www.linkedin.com/signup/cold-join?sour...  \n",
            "20  https://www.linkedin.com/signup/cold-join?sour...  \n",
            "21  https://www.linkedin.com/signup/cold-join?sour...  \n",
            "22  https://www.linkedin.com/signup/cold-join?sour...  \n",
            "23  https://www.linkedin.com/signup/cold-join?sour...  \n",
            "24  https://www.linkedin.com/signup/cold-join?sour...  \n",
            "25  https://www.linkedin.com/signup/cold-join?sour...  \n",
            "26  https://www.linkedin.com/signup/cold-join?sour...  \n",
            "27  https://www.linkedin.com/signup/cold-join?sour...  \n",
            "28  https://www.linkedin.com/signup/cold-join?sour...  \n",
            "29  https://www.linkedin.com/signup/cold-join?sour...  \n"
          ]
        }
      ]
    },
    {
      "cell_type": "markdown",
      "source": [
        "# New Section"
      ],
      "metadata": {
        "id": "KfNXb6Rdhu0p"
      }
    }
  ]
}